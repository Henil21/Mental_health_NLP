{
  "nbformat": 4,
  "nbformat_minor": 0,
  "metadata": {
    "colab": {
      "provenance": [],
      "gpuType": "T4",
      "mount_file_id": "1Empo2FLN0_b0q0n7mBfA43MjXe9oXbsg",
      "authorship_tag": "ABX9TyPu1Vofs5WcWdTGVsYkAXSQ",
      "include_colab_link": true
    },
    "kernelspec": {
      "name": "python3",
      "display_name": "Python 3"
    },
    "language_info": {
      "name": "python"
    },
    "accelerator": "GPU"
  },
  "cells": [
    {
      "cell_type": "markdown",
      "metadata": {
        "id": "view-in-github",
        "colab_type": "text"
      },
      "source": [
        "<a href=\"https://colab.research.google.com/github/Henil21/Mental_health_NLP/blob/main/Mental_health.ipynb\" target=\"_parent\"><img src=\"https://colab.research.google.com/assets/colab-badge.svg\" alt=\"Open In Colab\"/></a>"
      ]
    },
    {
      "cell_type": "code",
      "source": [
        "import pandas as pd"
      ],
      "metadata": {
        "id": "0U3_V3bPsCvI"
      },
      "execution_count": 1,
      "outputs": []
    },
    {
      "cell_type": "code",
      "source": [
        "Data=pd.read_csv('/content/drive/MyDrive/mental_health.csv')\n",
        "Data.count()"
      ],
      "metadata": {
        "colab": {
          "base_uri": "https://localhost:8080/"
        },
        "id": "YWvDOE00uLga",
        "outputId": "3023c23a-ba27-4505-8210-de01ba007d87"
      },
      "execution_count": 2,
      "outputs": [
        {
          "output_type": "execute_result",
          "data": {
            "text/plain": [
              "text     27977\n",
              "label    27977\n",
              "dtype: int64"
            ]
          },
          "metadata": {},
          "execution_count": 2
        }
      ]
    },
    {
      "cell_type": "code",
      "source": [
        "text=Data['text']\n",
        "label=Data['label']\n",
        "label.value_counts()\n"
      ],
      "metadata": {
        "colab": {
          "base_uri": "https://localhost:8080/"
        },
        "id": "vGaxe1RvubIb",
        "outputId": "8e645e76-77db-4baf-db89-89b4ded477e3"
      },
      "execution_count": 3,
      "outputs": [
        {
          "output_type": "execute_result",
          "data": {
            "text/plain": [
              "0    14139\n",
              "1    13838\n",
              "Name: label, dtype: int64"
            ]
          },
          "metadata": {},
          "execution_count": 3
        }
      ]
    },
    {
      "cell_type": "code",
      "source": [
        "train_shf=Data.sample(frac=1,random_state=42)\n",
        "train_shf.head()"
      ],
      "metadata": {
        "colab": {
          "base_uri": "https://localhost:8080/",
          "height": 206
        },
        "id": "YlsprouivReo",
        "outputId": "9ee5fdc9-5a24-41b7-8f22-827cd81fce74"
      },
      "execution_count": 4,
      "outputs": [
        {
          "output_type": "execute_result",
          "data": {
            "text/plain": [
              "                                                    text  label\n",
              "6604   im ready gothanks previous person commented la...      1\n",
              "25912  atoms ashim posting im anonymous molested  old...      1\n",
              "18308  wanna use omegle cus self esteems low ppl alwa...      0\n",
              "18875  hey world questioni curious think lot people r...      1\n",
              "23181  guuuuuys passed dance exams honors got honors ...      0"
            ],
            "text/html": [
              "\n",
              "\n",
              "  <div id=\"df-dab29fe5-fa5e-4693-9090-229d4a84447c\">\n",
              "    <div class=\"colab-df-container\">\n",
              "      <div>\n",
              "<style scoped>\n",
              "    .dataframe tbody tr th:only-of-type {\n",
              "        vertical-align: middle;\n",
              "    }\n",
              "\n",
              "    .dataframe tbody tr th {\n",
              "        vertical-align: top;\n",
              "    }\n",
              "\n",
              "    .dataframe thead th {\n",
              "        text-align: right;\n",
              "    }\n",
              "</style>\n",
              "<table border=\"1\" class=\"dataframe\">\n",
              "  <thead>\n",
              "    <tr style=\"text-align: right;\">\n",
              "      <th></th>\n",
              "      <th>text</th>\n",
              "      <th>label</th>\n",
              "    </tr>\n",
              "  </thead>\n",
              "  <tbody>\n",
              "    <tr>\n",
              "      <th>6604</th>\n",
              "      <td>im ready gothanks previous person commented la...</td>\n",
              "      <td>1</td>\n",
              "    </tr>\n",
              "    <tr>\n",
              "      <th>25912</th>\n",
              "      <td>atoms ashim posting im anonymous molested  old...</td>\n",
              "      <td>1</td>\n",
              "    </tr>\n",
              "    <tr>\n",
              "      <th>18308</th>\n",
              "      <td>wanna use omegle cus self esteems low ppl alwa...</td>\n",
              "      <td>0</td>\n",
              "    </tr>\n",
              "    <tr>\n",
              "      <th>18875</th>\n",
              "      <td>hey world questioni curious think lot people r...</td>\n",
              "      <td>1</td>\n",
              "    </tr>\n",
              "    <tr>\n",
              "      <th>23181</th>\n",
              "      <td>guuuuuys passed dance exams honors got honors ...</td>\n",
              "      <td>0</td>\n",
              "    </tr>\n",
              "  </tbody>\n",
              "</table>\n",
              "</div>\n",
              "      <button class=\"colab-df-convert\" onclick=\"convertToInteractive('df-dab29fe5-fa5e-4693-9090-229d4a84447c')\"\n",
              "              title=\"Convert this dataframe to an interactive table.\"\n",
              "              style=\"display:none;\">\n",
              "\n",
              "  <svg xmlns=\"http://www.w3.org/2000/svg\" height=\"24px\"viewBox=\"0 0 24 24\"\n",
              "       width=\"24px\">\n",
              "    <path d=\"M0 0h24v24H0V0z\" fill=\"none\"/>\n",
              "    <path d=\"M18.56 5.44l.94 2.06.94-2.06 2.06-.94-2.06-.94-.94-2.06-.94 2.06-2.06.94zm-11 1L8.5 8.5l.94-2.06 2.06-.94-2.06-.94L8.5 2.5l-.94 2.06-2.06.94zm10 10l.94 2.06.94-2.06 2.06-.94-2.06-.94-.94-2.06-.94 2.06-2.06.94z\"/><path d=\"M17.41 7.96l-1.37-1.37c-.4-.4-.92-.59-1.43-.59-.52 0-1.04.2-1.43.59L10.3 9.45l-7.72 7.72c-.78.78-.78 2.05 0 2.83L4 21.41c.39.39.9.59 1.41.59.51 0 1.02-.2 1.41-.59l7.78-7.78 2.81-2.81c.8-.78.8-2.07 0-2.86zM5.41 20L4 18.59l7.72-7.72 1.47 1.35L5.41 20z\"/>\n",
              "  </svg>\n",
              "      </button>\n",
              "\n",
              "\n",
              "\n",
              "    <div id=\"df-f156a5b1-03c5-4074-a062-f787e7f7dcdb\">\n",
              "      <button class=\"colab-df-quickchart\" onclick=\"quickchart('df-f156a5b1-03c5-4074-a062-f787e7f7dcdb')\"\n",
              "              title=\"Suggest charts.\"\n",
              "              style=\"display:none;\">\n",
              "\n",
              "<svg xmlns=\"http://www.w3.org/2000/svg\" height=\"24px\"viewBox=\"0 0 24 24\"\n",
              "     width=\"24px\">\n",
              "    <g>\n",
              "        <path d=\"M19 3H5c-1.1 0-2 .9-2 2v14c0 1.1.9 2 2 2h14c1.1 0 2-.9 2-2V5c0-1.1-.9-2-2-2zM9 17H7v-7h2v7zm4 0h-2V7h2v10zm4 0h-2v-4h2v4z\"/>\n",
              "    </g>\n",
              "</svg>\n",
              "      </button>\n",
              "    </div>\n",
              "\n",
              "<style>\n",
              "  .colab-df-quickchart {\n",
              "    background-color: #E8F0FE;\n",
              "    border: none;\n",
              "    border-radius: 50%;\n",
              "    cursor: pointer;\n",
              "    display: none;\n",
              "    fill: #1967D2;\n",
              "    height: 32px;\n",
              "    padding: 0 0 0 0;\n",
              "    width: 32px;\n",
              "  }\n",
              "\n",
              "  .colab-df-quickchart:hover {\n",
              "    background-color: #E2EBFA;\n",
              "    box-shadow: 0px 1px 2px rgba(60, 64, 67, 0.3), 0px 1px 3px 1px rgba(60, 64, 67, 0.15);\n",
              "    fill: #174EA6;\n",
              "  }\n",
              "\n",
              "  [theme=dark] .colab-df-quickchart {\n",
              "    background-color: #3B4455;\n",
              "    fill: #D2E3FC;\n",
              "  }\n",
              "\n",
              "  [theme=dark] .colab-df-quickchart:hover {\n",
              "    background-color: #434B5C;\n",
              "    box-shadow: 0px 1px 3px 1px rgba(0, 0, 0, 0.15);\n",
              "    filter: drop-shadow(0px 1px 2px rgba(0, 0, 0, 0.3));\n",
              "    fill: #FFFFFF;\n",
              "  }\n",
              "</style>\n",
              "\n",
              "    <script>\n",
              "      async function quickchart(key) {\n",
              "        const containerElement = document.querySelector('#' + key);\n",
              "        const charts = await google.colab.kernel.invokeFunction(\n",
              "            'suggestCharts', [key], {});\n",
              "      }\n",
              "    </script>\n",
              "\n",
              "      <script>\n",
              "\n",
              "function displayQuickchartButton(domScope) {\n",
              "  let quickchartButtonEl =\n",
              "    domScope.querySelector('#df-f156a5b1-03c5-4074-a062-f787e7f7dcdb button.colab-df-quickchart');\n",
              "  quickchartButtonEl.style.display =\n",
              "    google.colab.kernel.accessAllowed ? 'block' : 'none';\n",
              "}\n",
              "\n",
              "        displayQuickchartButton(document);\n",
              "      </script>\n",
              "      <style>\n",
              "    .colab-df-container {\n",
              "      display:flex;\n",
              "      flex-wrap:wrap;\n",
              "      gap: 12px;\n",
              "    }\n",
              "\n",
              "    .colab-df-convert {\n",
              "      background-color: #E8F0FE;\n",
              "      border: none;\n",
              "      border-radius: 50%;\n",
              "      cursor: pointer;\n",
              "      display: none;\n",
              "      fill: #1967D2;\n",
              "      height: 32px;\n",
              "      padding: 0 0 0 0;\n",
              "      width: 32px;\n",
              "    }\n",
              "\n",
              "    .colab-df-convert:hover {\n",
              "      background-color: #E2EBFA;\n",
              "      box-shadow: 0px 1px 2px rgba(60, 64, 67, 0.3), 0px 1px 3px 1px rgba(60, 64, 67, 0.15);\n",
              "      fill: #174EA6;\n",
              "    }\n",
              "\n",
              "    [theme=dark] .colab-df-convert {\n",
              "      background-color: #3B4455;\n",
              "      fill: #D2E3FC;\n",
              "    }\n",
              "\n",
              "    [theme=dark] .colab-df-convert:hover {\n",
              "      background-color: #434B5C;\n",
              "      box-shadow: 0px 1px 3px 1px rgba(0, 0, 0, 0.15);\n",
              "      filter: drop-shadow(0px 1px 2px rgba(0, 0, 0, 0.3));\n",
              "      fill: #FFFFFF;\n",
              "    }\n",
              "  </style>\n",
              "\n",
              "      <script>\n",
              "        const buttonEl =\n",
              "          document.querySelector('#df-dab29fe5-fa5e-4693-9090-229d4a84447c button.colab-df-convert');\n",
              "        buttonEl.style.display =\n",
              "          google.colab.kernel.accessAllowed ? 'block' : 'none';\n",
              "\n",
              "        async function convertToInteractive(key) {\n",
              "          const element = document.querySelector('#df-dab29fe5-fa5e-4693-9090-229d4a84447c');\n",
              "          const dataTable =\n",
              "            await google.colab.kernel.invokeFunction('convertToInteractive',\n",
              "                                                     [key], {});\n",
              "          if (!dataTable) return;\n",
              "\n",
              "          const docLinkHtml = 'Like what you see? Visit the ' +\n",
              "            '<a target=\"_blank\" href=https://colab.research.google.com/notebooks/data_table.ipynb>data table notebook</a>'\n",
              "            + ' to learn more about interactive tables.';\n",
              "          element.innerHTML = '';\n",
              "          dataTable['output_type'] = 'display_data';\n",
              "          await google.colab.output.renderOutput(dataTable, element);\n",
              "          const docLink = document.createElement('div');\n",
              "          docLink.innerHTML = docLinkHtml;\n",
              "          element.appendChild(docLink);\n",
              "        }\n",
              "      </script>\n",
              "    </div>\n",
              "  </div>\n"
            ]
          },
          "metadata": {},
          "execution_count": 4
        }
      ]
    },
    {
      "cell_type": "code",
      "source": [
        "# lets visualize some random training example\n",
        "import random\n",
        "random_index=random.randint(0, len(train_shf)-5)\n",
        "# create random index not higher than total number of samples\n",
        "for row in train_shf[[\"text\",\"label\"]][random_index:random_index+5].itertuples():\n",
        "  _,text,label=row\n",
        "  print(f\"label:{label}\",\"(mental health abnormal)\" if label>0 else \"(normal)\")\n",
        "  print(f\"Text:\\n{text}\\n\")\n",
        "  print(\"--------\\n\")"
      ],
      "metadata": {
        "colab": {
          "base_uri": "https://localhost:8080/"
        },
        "id": "vrabTt6UvcTl",
        "outputId": "6265273f-6ed8-4df4-a6ef-e9987fd32c10"
      },
      "execution_count": 5,
      "outputs": [
        {
          "output_type": "stream",
          "name": "stdout",
          "text": [
            "label:0 (normal)\n",
            "Text:\n",
            "get chest back  used baby sat nanas neighbour sister whos younger me would play kids years older us always picked me neighbour  daughters son son nice daughters werent oldest one would push sister snow walking place finally enough told pushed sister snow would hit her went said pushed really hard snow also   got back house told mom got trouble crying trying explain really happened fell deaf ears mom told stop crying shell give something cry grabbed arm really hard shoved living room even worse part sister outside playing daughters pop trailer if know please google it trailer drive way super hot day summer opening storage compartments look inside one them super hot could barely breath head also dark inside see arms well feeling something bad going happen put hands edge could push it  girls wanted put storage compartment feeling going leave die sister watching anything basically grabbed tried shove somehow able push back get free shoved ground really hard scared  started yell asking let put there say anything kept crying thankfully never go again also sorry formatting im writing phone tldr bullied mother daughters one day daughters tried kill shoving small hot storage compartment trailer\n",
            "\n",
            "--------\n",
            "\n",
            "label:1 (mental health abnormal)\n",
            "Text:\n",
            "tried solutions worked temporarily food made  lbs average making feel pathetic nothing else really know else trying self harm even though know everyone would pissed truly thinking trying self harm\n",
            "\n",
            "--------\n",
            "\n",
            "label:0 (normal)\n",
            "Text:\n",
            "im kind slow seriously thought like february   fuck almost half way past month im losing track time\n",
            "\n",
            "--------\n",
            "\n",
            "label:0 (normal)\n",
            "Text:\n",
            "day one trying get banned day one trying banned here yep thats right hate want im this get banned im deleting account over today im gonna violently homophobic h e gays much going burn hell deserve it homophobic\n",
            "\n",
            "--------\n",
            "\n",
            "label:0 (normal)\n",
            "Text:\n",
            "wife kate absolutely loved series cant wait next one hopefully sequel would love know catchy song called wrote it maybe old grey still interested life anyone full lyrics please send thembr br of course one big reason wife liked series much  years old retired still active intellectually great see show highlights contribution society still made older people special skills experience human interest aspect showing interactions characters younger people around important part showbr br this series highly entertaining sophisticated par favourites spooks hustle\n",
            "\n",
            "--------\n",
            "\n"
          ]
        }
      ]
    },
    {
      "cell_type": "code",
      "source": [
        "from sklearn.model_selection import train_test_split\n",
        "\n",
        "train_sentences,val_sentences,train_labels,val_labels=train_test_split(Data[\"text\"].to_numpy(),\n",
        "                                                                       Data[\"label\"].to_numpy(),\n",
        "                                                                       test_size=0.3,\n",
        "                                                                       random_state=42)\n"
      ],
      "metadata": {
        "id": "tIo8DuIQyIwe"
      },
      "execution_count": 6,
      "outputs": []
    },
    {
      "cell_type": "code",
      "source": [
        "train_sentences[:10]"
      ],
      "metadata": {
        "id": "nWiVMiVgzgYt",
        "colab": {
          "base_uri": "https://localhost:8080/"
        },
        "outputId": "73b22951-167d-425c-f568-8fc5c0c43aec"
      },
      "execution_count": 7,
      "outputs": [
        {
          "output_type": "execute_result",
          "data": {
            "text/plain": [
              "array(['silly putty implies serious putty',\n",
              "       'literally sat bed crying begging someone something kill lmaoi feel fuckin trapped mani one want worry shit thanks reading guess method  would done tonight',\n",
              "       'lot delayed this im doneim sorry thank kind words cant keep anymore cant',\n",
              "       'im going  hours get worki couldnt get much sleep thing going head wanna die wanna die wanna die over could succeeded six redflag attempts ive made past year',\n",
              "       'hi help guy told would put blenderleave blended mean',\n",
              "       'plop join fast among us ehejidjdjdjdjdjdidjdjddjd dbbd',\n",
              "       'perfect man alive  correct answer kim taehyung',\n",
              "       'happy wife happy life haha kidding ill never happy life wife miserable ha joshin you im gay',\n",
              "       'racist anything racist fuck marathons like bruh cmon aint one got need god damn marathon',\n",
              "       'yeahi really much left except alcohol absolutly one life turn times like this always anyone else world remember things tell them im rational want call hotline again one life im sure much longer deal it im sorry edit im sorry want someone tell day was want deal again'],\n",
              "      dtype=object)"
            ]
          },
          "metadata": {},
          "execution_count": 7
        }
      ]
    },
    {
      "cell_type": "code",
      "source": [
        "val_sentences[:10]"
      ],
      "metadata": {
        "colab": {
          "base_uri": "https://localhost:8080/"
        },
        "id": "3sq-8yLa0llE",
        "outputId": "35d0b000-e64c-4bfd-ed9f-992ce80630df"
      },
      "execution_count": 8,
      "outputs": [
        {
          "output_type": "execute_result",
          "data": {
            "text/plain": [
              "array(['im ready gothanks previous person commented last post pushing edge mum work tomorrow thursday friday thats ill it creating set tomorrow week nothing ever goes way life ive ruined childhood trauma effects life result abandoned everybody ive ever loved even change heart still need go current situation thats it im going die soon',\n",
              "       'atoms ashim posting im anonymous molested  older sister cover secret played liar entire childhood put bad spot emotionally constantly getting trouble parents school bullied rediculed friends harrassed elementary school students teachers put medication rd grade everyday pulled classroom sit principal office would come home crying everyday mistreatment mom finally enough pulled public school transferred private christian school behind education next year retake rd grade students bullied started fight back aggressively also landed principals office th grade transferred back public school made friends bullies bad kids class want bullied anymore tough guy got girlfriend short lived ended writing notes wanted fuck bunch sexual stuff soon found grandma called principal school tried press charges minor gone puberty yet really understand ramifications saying grip parents tightened medication forced throat th grade teacher slapped across face class shut class still remember bead sweat rolling mustache red angry face slapped me made turn back hardened asshole teachers care school point wanted run away several times could never make friends felt like big fucking joke me fist fights recess involved somebody else typically started kids corned back fence friends said fuck friends need them th grade proceeded get girlfriend become sexually active th grade high school began relationship started take turn eventually ended longest friendship entire life devastating ended began get suicidal depression tried overdose medication class caught red handed taking entire bottle pills became violently ill blacked bathroom found carried nurses office school principal called ambulance contacted mom mom devastated pissed crying uncontrollably lied said accident switched meds antidepressants later stopped taking gag reflex overdose went  long term relationship breakups ended cutting arms burning lighter pulled class senior year high school arrested front whole school shooting front school paintball gun night before prank someone would clean charged  different things including terrorism absolutely drive become anything life think going live past  academically barely graduated high school convinced pull shit together go college failed college blew grant money food diamonds girlfriend relationship ended joined marine corps go die country iraq opf fallujah ex girlfriend came see california led wanted get back knew knew company getting deployed iraq fight real full metal jacket mental breakdown weeks deployed threatened kill bunch people landed hospital diagnosis ptsd bipolar major depression fraudulent enlistment charge given discharge honorable conditions plane ticket home tried go back school failed racked another bill year discharge girlfriend broke up friends considered failure everything let love life walk away soon keep depression control jumped relationship first girl would talk gas station convinced looks everything chick nice funny showed attention wanted cock cake care fucked head son already whose father jail decided would pull shit together roll model later started self medicating weed really cop felt great high time friends wifes friends supplying me temper really chilled smoked manic didnt filled uncontrollable anxietydepression rage often super asshole little man syndrome didnt smoke often thought redflag option stop internal pain instead saying loud would impulsively things hurt myself punched structure point shattered wrist several fingers felt better little bit marriage ended year later point interest forming new relationships anyone tired looking new connects weed moved around different states legal dispensaries soon realized weed helping actually making things worse control anymore desperate plea help sister gave place stay moving sister family found work started busting ass make things work could get place entire focus work smoking weed numb pain living often would isolate away everyone else could smoke weed cigarettes really acceptable lifestyle eventually led renting room house full strangers closer work work roommates knowing weed would go room steal weed play instruments work put huge panic major anxiety depression eventually leave situation move back sister brother law take well year started throwing offensive false accusations sexually since interested dating divorce nephews would repeat said friends friends parents soon everyone treated fucked way made things even worse instead giving getting defensive fucking talking shit decided pack shit leave found cheap place live way woods away everyone else keep myself working employer  years started feel little comfortable around coworkers opened little relate mentioned high school paintballing incident normal conversation conflicts employer soon started take place coworker told boss paintballing played sociopath wanted job pay concerned thought boss knew well enough believe later sit boss talk future goals told goal make better future plans start business real grown shit like one bit fact retaliated cutting hours bonus pay singled rest crew made work jobs less time complete pressure unbearable redflag plate everyday every hour constantly mind started feel ill overwhelming uncontrollable feelings panic attack quit job health insurance afford cost housing car payments insurance cellphone bill ended going doctor heart would beat chest throwing every morning years wanted know why turns heart enlarged may diabetes stage  hypertension might heart attack stroke cant relieve stress take care myself got way refused take medications instead still self medicating stop weed without losing mind emotionally stopped smoking weedcigs mt dew per doctors request save life anxiety debilitating obsess death cant hold conversation cant share eye contact feel extremely uncomfortable every social situation encounter cant bring back normal feel like normal wanting kill ending existence im running short money bank feel like work people fucking minion worker slave would rather die life completely closed feel though time running out well self control hide painful memories mom traveled  miles past slipped said going kill extremely worried depressed feels like lose child even tho ive said nothing recently actually moved woods far away everyone kill myself nobody would find me cant sleep anymore mind always thinking ways go every tree look at see hanging every gun looks see blood scattered wall body slumped over every tall building see body bouncing pavement every light pole see think truck wrapped around body half way hood windshield go jog try clear mind feel urge step front car semi head hurts cant help punch face burn propane torch relieve pain extremely difficult time analyzing events life absolutely hating people theyve done me hating unable forgive forget move on shitty things ive said done people control myself thought redflag might parents kept here feel hard even around family hour without irritated rude hate everything me starting understand everyone else hates too hurtful things go away cannot help desperately want become ash float away space dot planet insignificant every way mankind nothing offer feel ashamed illness feel like waste space oxygen pray god blow heart chest mom dad would live fact son willingly killed himself',\n",
              "       'wanna use omegle cus self esteems low ppl always compliment saw ppl saying got doxxed using omegle shit uhh meh oh well',\n",
              "       'hey world questioni curious think lot people read try help position wanting commit redflag before someone said help you things people say ive heard before means nothingbut fact someone cares mean bit words ever touched you share me something think about ive thought redflag years young life know ever completely go away even words helped specific situation maybe theyd give something think think wanting die edit okay multiple questionsbut basically same',\n",
              "       'guuuuuys passed dance exams honors got honors bronze new vogue exams merilin tongoette evening threestep first time got medal something im happy rn',\n",
              "       'know anymore fmy dad left us mom bitch browsing internet  years searching guy wants perfect man even working depressed want talk anyone uses phone day day one cooking expensive maid money wasted since anything day  years weve living money  brother  sisters live another country im finishing school soon dream go medical college become doctor says find job bring money home shit fucked up able go much longer',\n",
              "       'life end wantits life ive never control anything im going fucking kill hate life',\n",
              "       'ready dieive spent whole life worthless im  nothing show it im worth women im worth friends im tired caring everyone else want end cant take anymore',\n",
              "       'best way disappearim interest ideas commit redflag body disappear forever without anyone traumatized clue happened whatsoever thoughts ideas',\n",
              "       'anyone wanna dm want chat someone bcneidnekdnekfnrvjnrfjenfkwnskwndkwndjenvrjgnrifneindwkdnejvnrjbbtjgnricnskdnskdnekvjvnrjgnekfnekdneifnrgkrjgineknefkengrkjvekfmkkdmwkdnrkgnrkgnrkvjrkvmekfmskfmdkfmrkvmfkvmdkfmdkmfekmvrkvjekfmekfjekv filler candjcdckndjvnekvndkcnsifneivenfinekdnekfenkefnkvenkvnefkndkcdnkncdkcmdkcdnckdmckdmkdnckdvndkmckdvnkdv'],\n",
              "      dtype=object)"
            ]
          },
          "metadata": {},
          "execution_count": 8
        }
      ]
    },
    {
      "cell_type": "code",
      "source": [
        "# find the average number of token(words) in the training tweet\n",
        "# Find average number of tokens (words) in training Tweets\n",
        "round(sum([len(i.split()) for i in train_sentences])/len(train_sentences))"
      ],
      "metadata": {
        "colab": {
          "base_uri": "https://localhost:8080/"
        },
        "id": "z_o6jBMu1Rek",
        "outputId": "1508ed89-6aac-48fa-ef16-78eb219e24e9"
      },
      "execution_count": 9,
      "outputs": [
        {
          "output_type": "execute_result",
          "data": {
            "text/plain": [
              "72"
            ]
          },
          "metadata": {},
          "execution_count": 9
        }
      ]
    },
    {
      "cell_type": "code",
      "source": [
        "from tensorflow.keras.layers.experimental.preprocessing import TextVectorization\n",
        "\n",
        "# Setup text vectorization with custom variables\n",
        "max_vocab_length = 10000 # max number of words to have in our vocabulary\n",
        "max_length = 72 # max length our sequences will be (e.g. how many words from a Tweet does our model see?)\n",
        "\n",
        "text_vectorizer = TextVectorization(max_tokens=max_vocab_length,\n",
        "                                     split=\"whitespace\",\n",
        "                                    output_mode=\"int\",\n",
        "                                    output_sequence_length=max_length)\n"
      ],
      "metadata": {
        "id": "GKcv7vz302Iy"
      },
      "execution_count": 10,
      "outputs": []
    },
    {
      "cell_type": "code",
      "source": [
        "text_vectorizer.adapt(train_sentences)\n",
        "sample_text='this is stupid someone kill me fuck'\n",
        "text_vectorizer([sample_text])"
      ],
      "metadata": {
        "colab": {
          "base_uri": "https://localhost:8080/"
        },
        "id": "SnRATaml1bZT",
        "outputId": "6fa64e66-ff59-4df4-dcb3-f36cc205b91b"
      },
      "execution_count": 11,
      "outputs": [
        {
          "output_type": "execute_result",
          "data": {
            "text/plain": [
              "<tf.Tensor: shape=(1, 72), dtype=int64, numpy=\n",
              "array([[ 68, 256, 252,  40,  69,  10, 124,   0,   0,   0,   0,   0,   0,\n",
              "          0,   0,   0,   0,   0,   0,   0,   0,   0,   0,   0,   0,   0,\n",
              "          0,   0,   0,   0,   0,   0,   0,   0,   0,   0,   0,   0,   0,\n",
              "          0,   0,   0,   0,   0,   0,   0,   0,   0,   0,   0,   0,   0,\n",
              "          0,   0,   0,   0,   0,   0,   0,   0,   0,   0,   0,   0,   0,\n",
              "          0,   0,   0,   0,   0,   0,   0]])>"
            ]
          },
          "metadata": {},
          "execution_count": 11
        }
      ]
    },
    {
      "cell_type": "code",
      "source": [
        "import random\n",
        "random_sentence=random.choice(train_sentences)\n",
        "random_sentence\n",
        "print(f'orignal text is\\n {random_sentence} \\n\\n and the vectorized text is \\n {text_vectorizer([random_sentence])}')"
      ],
      "metadata": {
        "colab": {
          "base_uri": "https://localhost:8080/"
        },
        "id": "JCO7bWPU14eh",
        "outputId": "b132b7a2-b04c-4f9c-ddf1-f51e73bf9ec4"
      },
      "execution_count": 12,
      "outputs": [
        {
          "output_type": "stream",
          "name": "stdout",
          "text": [
            "orignal text is\n",
            " want attention want heart maybe hate thought someone newlala \n",
            "\n",
            " and the vectorized text is \n",
            " [[  4 493   4 333 119  79  85  40   1   0   0   0   0   0   0   0   0   0\n",
            "    0   0   0   0   0   0   0   0   0   0   0   0   0   0   0   0   0   0\n",
            "    0   0   0   0   0   0   0   0   0   0   0   0   0   0   0   0   0   0\n",
            "    0   0   0   0   0   0   0   0   0   0   0   0   0   0   0   0   0   0]]\n"
          ]
        }
      ]
    },
    {
      "cell_type": "code",
      "source": [
        "words_in_voc=text_vectorizer.get_vocabulary()\n",
        "top_5=words_in_voc[:5]\n",
        "bottom_5=words_in_voc[-5:]\n",
        "print(f\"number of word in vocab {len(words_in_voc)}\\n\")\n",
        "print(f\"5 most comman word in  vocab {top_5}\\n\")\n",
        "print(f\"5 least comman  word in vocab {bottom_5}\")\n"
      ],
      "metadata": {
        "colab": {
          "base_uri": "https://localhost:8080/"
        },
        "id": "IjP6mUM62edX",
        "outputId": "eb2347e8-de4b-4b33-b791-53ac8ab83191"
      },
      "execution_count": 13,
      "outputs": [
        {
          "output_type": "stream",
          "name": "stdout",
          "text": [
            "number of word in vocab 10000\n",
            "\n",
            "5 most comman word in  vocab ['', '[UNK]', 'im', 'like', 'want']\n",
            "\n",
            "5 least comman  word in vocab ['botched', 'bosses', 'boomers', 'boo', 'boiled']\n"
          ]
        }
      ]
    },
    {
      "cell_type": "code",
      "source": [
        "from tensorflow.keras import layers\n",
        "embedding = layers.Embedding(input_dim=max_vocab_length,#set the input shape\n",
        "                             output_dim=128,\n",
        "                             input_length=max_length)"
      ],
      "metadata": {
        "id": "3kl_QZst20KB"
      },
      "execution_count": 14,
      "outputs": []
    },
    {
      "cell_type": "code",
      "source": [
        "# Convert text into number\n",
        "from sklearn.feature_extraction.text import TfidfVectorizer\n",
        "# our model\n",
        "from sklearn.naive_bayes import MultinomialNB\n",
        "\n",
        "from sklearn.pipeline import Pipeline\n",
        "\n",
        "# create tokenization and modelling pipeline\n",
        "model_0 = Pipeline([\n",
        "    (\"tfidf\",TfidfVectorizer()),# convert words to number using tfidf\n",
        "    (\"clf\",MultinomialNB())# model the text\n",
        "])\n",
        "# fit the pipleine to the training data\n",
        "model_0.fit(train_sentences,train_labels)"
      ],
      "metadata": {
        "colab": {
          "base_uri": "https://localhost:8080/",
          "height": 124
        },
        "id": "2Tf1AQdN27Sg",
        "outputId": "6fcb280f-ff41-4f45-8af4-64bc238a859a"
      },
      "execution_count": 15,
      "outputs": [
        {
          "output_type": "execute_result",
          "data": {
            "text/plain": [
              "Pipeline(steps=[('tfidf', TfidfVectorizer()), ('clf', MultinomialNB())])"
            ],
            "text/html": [
              "<style>#sk-container-id-1 {color: black;background-color: white;}#sk-container-id-1 pre{padding: 0;}#sk-container-id-1 div.sk-toggleable {background-color: white;}#sk-container-id-1 label.sk-toggleable__label {cursor: pointer;display: block;width: 100%;margin-bottom: 0;padding: 0.3em;box-sizing: border-box;text-align: center;}#sk-container-id-1 label.sk-toggleable__label-arrow:before {content: \"▸\";float: left;margin-right: 0.25em;color: #696969;}#sk-container-id-1 label.sk-toggleable__label-arrow:hover:before {color: black;}#sk-container-id-1 div.sk-estimator:hover label.sk-toggleable__label-arrow:before {color: black;}#sk-container-id-1 div.sk-toggleable__content {max-height: 0;max-width: 0;overflow: hidden;text-align: left;background-color: #f0f8ff;}#sk-container-id-1 div.sk-toggleable__content pre {margin: 0.2em;color: black;border-radius: 0.25em;background-color: #f0f8ff;}#sk-container-id-1 input.sk-toggleable__control:checked~div.sk-toggleable__content {max-height: 200px;max-width: 100%;overflow: auto;}#sk-container-id-1 input.sk-toggleable__control:checked~label.sk-toggleable__label-arrow:before {content: \"▾\";}#sk-container-id-1 div.sk-estimator input.sk-toggleable__control:checked~label.sk-toggleable__label {background-color: #d4ebff;}#sk-container-id-1 div.sk-label input.sk-toggleable__control:checked~label.sk-toggleable__label {background-color: #d4ebff;}#sk-container-id-1 input.sk-hidden--visually {border: 0;clip: rect(1px 1px 1px 1px);clip: rect(1px, 1px, 1px, 1px);height: 1px;margin: -1px;overflow: hidden;padding: 0;position: absolute;width: 1px;}#sk-container-id-1 div.sk-estimator {font-family: monospace;background-color: #f0f8ff;border: 1px dotted black;border-radius: 0.25em;box-sizing: border-box;margin-bottom: 0.5em;}#sk-container-id-1 div.sk-estimator:hover {background-color: #d4ebff;}#sk-container-id-1 div.sk-parallel-item::after {content: \"\";width: 100%;border-bottom: 1px solid gray;flex-grow: 1;}#sk-container-id-1 div.sk-label:hover label.sk-toggleable__label {background-color: #d4ebff;}#sk-container-id-1 div.sk-serial::before {content: \"\";position: absolute;border-left: 1px solid gray;box-sizing: border-box;top: 0;bottom: 0;left: 50%;z-index: 0;}#sk-container-id-1 div.sk-serial {display: flex;flex-direction: column;align-items: center;background-color: white;padding-right: 0.2em;padding-left: 0.2em;position: relative;}#sk-container-id-1 div.sk-item {position: relative;z-index: 1;}#sk-container-id-1 div.sk-parallel {display: flex;align-items: stretch;justify-content: center;background-color: white;position: relative;}#sk-container-id-1 div.sk-item::before, #sk-container-id-1 div.sk-parallel-item::before {content: \"\";position: absolute;border-left: 1px solid gray;box-sizing: border-box;top: 0;bottom: 0;left: 50%;z-index: -1;}#sk-container-id-1 div.sk-parallel-item {display: flex;flex-direction: column;z-index: 1;position: relative;background-color: white;}#sk-container-id-1 div.sk-parallel-item:first-child::after {align-self: flex-end;width: 50%;}#sk-container-id-1 div.sk-parallel-item:last-child::after {align-self: flex-start;width: 50%;}#sk-container-id-1 div.sk-parallel-item:only-child::after {width: 0;}#sk-container-id-1 div.sk-dashed-wrapped {border: 1px dashed gray;margin: 0 0.4em 0.5em 0.4em;box-sizing: border-box;padding-bottom: 0.4em;background-color: white;}#sk-container-id-1 div.sk-label label {font-family: monospace;font-weight: bold;display: inline-block;line-height: 1.2em;}#sk-container-id-1 div.sk-label-container {text-align: center;}#sk-container-id-1 div.sk-container {/* jupyter's `normalize.less` sets `[hidden] { display: none; }` but bootstrap.min.css set `[hidden] { display: none !important; }` so we also need the `!important` here to be able to override the default hidden behavior on the sphinx rendered scikit-learn.org. See: https://github.com/scikit-learn/scikit-learn/issues/21755 */display: inline-block !important;position: relative;}#sk-container-id-1 div.sk-text-repr-fallback {display: none;}</style><div id=\"sk-container-id-1\" class=\"sk-top-container\"><div class=\"sk-text-repr-fallback\"><pre>Pipeline(steps=[(&#x27;tfidf&#x27;, TfidfVectorizer()), (&#x27;clf&#x27;, MultinomialNB())])</pre><b>In a Jupyter environment, please rerun this cell to show the HTML representation or trust the notebook. <br />On GitHub, the HTML representation is unable to render, please try loading this page with nbviewer.org.</b></div><div class=\"sk-container\" hidden><div class=\"sk-item sk-dashed-wrapped\"><div class=\"sk-label-container\"><div class=\"sk-label sk-toggleable\"><input class=\"sk-toggleable__control sk-hidden--visually\" id=\"sk-estimator-id-1\" type=\"checkbox\" ><label for=\"sk-estimator-id-1\" class=\"sk-toggleable__label sk-toggleable__label-arrow\">Pipeline</label><div class=\"sk-toggleable__content\"><pre>Pipeline(steps=[(&#x27;tfidf&#x27;, TfidfVectorizer()), (&#x27;clf&#x27;, MultinomialNB())])</pre></div></div></div><div class=\"sk-serial\"><div class=\"sk-item\"><div class=\"sk-estimator sk-toggleable\"><input class=\"sk-toggleable__control sk-hidden--visually\" id=\"sk-estimator-id-2\" type=\"checkbox\" ><label for=\"sk-estimator-id-2\" class=\"sk-toggleable__label sk-toggleable__label-arrow\">TfidfVectorizer</label><div class=\"sk-toggleable__content\"><pre>TfidfVectorizer()</pre></div></div></div><div class=\"sk-item\"><div class=\"sk-estimator sk-toggleable\"><input class=\"sk-toggleable__control sk-hidden--visually\" id=\"sk-estimator-id-3\" type=\"checkbox\" ><label for=\"sk-estimator-id-3\" class=\"sk-toggleable__label sk-toggleable__label-arrow\">MultinomialNB</label><div class=\"sk-toggleable__content\"><pre>MultinomialNB()</pre></div></div></div></div></div></div></div>"
            ]
          },
          "metadata": {},
          "execution_count": 15
        }
      ]
    },
    {
      "cell_type": "code",
      "source": [
        "baseline_score=model_0.score(val_sentences,val_labels)\n",
        "# as we use .evaluate in tf for sklearn its .score\n",
        "baseline_score*100"
      ],
      "metadata": {
        "colab": {
          "base_uri": "https://localhost:8080/"
        },
        "id": "IXY2Z-343L_c",
        "outputId": "2bd34008-0d8f-4a12-a20f-c5b5a5c39b00"
      },
      "execution_count": 16,
      "outputs": [
        {
          "output_type": "execute_result",
          "data": {
            "text/plain": [
              "83.50011913271385"
            ]
          },
          "metadata": {},
          "execution_count": 16
        }
      ]
    },
    {
      "cell_type": "code",
      "source": [
        "from sklearn.metrics import accuracy_score,precision_recall_fscore_support\n",
        "def calculate_results(y_true,y_pred):\n",
        "  # Calculate model accuracy\n",
        "  model_accuracy=accuracy_score(y_true,y_pred)*100\n",
        "  # Calculate model precision, recall and f1 score using \"weighted\" average\n",
        "  model_precision, model_recall, model_f1, _ = precision_recall_fscore_support(y_true, y_pred, average=\"weighted\")\n",
        "  model_results = {\"accuracy\": model_accuracy,\n",
        "                   \"precision\":model_precision*100,\n",
        "                   \"recall\":model_recall*100,\n",
        "                   \"f1\":model_f1*100\n",
        "                   }\n",
        "  return model_results"
      ],
      "metadata": {
        "id": "m0NdzJxv3QYC"
      },
      "execution_count": 17,
      "outputs": []
    },
    {
      "cell_type": "code",
      "source": [
        "from tensorflow.keras import layers\n",
        "import tensorflow as tf\n",
        "tf.random.set_seed(42)\n",
        "inputs=layers.Input(shape=(1,),dtype=\"string\")\n",
        "x=text_vectorizer(inputs)\n",
        "x=embedding(x)\n",
        "x=layers.Bidirectional(layers.LSTM(64,return_sequences=True))(x) #layers.Bidirectional works with any LSTM\n",
        "# print(x.shape)\n",
        "x=layers.Bidirectional(layers.GRU(64))(x)\n",
        "outputs=layers.Dense(1,activation=\"sigmoid\")(x)\n",
        "model_4=tf.keras.Model(inputs,outputs,name=\"model_4_bidirectional\")"
      ],
      "metadata": {
        "id": "eCP0dkiG3ugh"
      },
      "execution_count": 18,
      "outputs": []
    },
    {
      "cell_type": "code",
      "source": [
        "# Compile model\n",
        "model_4.compile(loss=\"binary_crossentropy\",\n",
        "                optimizer=tf.keras.optimizers.Adam(),\n",
        "                metrics=['accuracy'])"
      ],
      "metadata": {
        "id": "_4iIKbQG4ROI"
      },
      "execution_count": 19,
      "outputs": []
    },
    {
      "cell_type": "code",
      "source": [
        "# Fit the model\n",
        "model_4_history=model_4.fit(train_sentences,\n",
        "                            train_labels,\n",
        "                            epochs=5,\n",
        "                            validation_data=(val_sentences,val_labels))"
      ],
      "metadata": {
        "colab": {
          "base_uri": "https://localhost:8080/"
        },
        "id": "b7DjIKAr4TNc",
        "outputId": "68a05281-5aa2-4baf-9c8c-19d4ab35511e"
      },
      "execution_count": 20,
      "outputs": [
        {
          "output_type": "stream",
          "name": "stdout",
          "text": [
            "Epoch 1/5\n",
            "612/612 [==============================] - 89s 117ms/step - loss: 0.2518 - accuracy: 0.8938 - val_loss: 0.2017 - val_accuracy: 0.9189\n",
            "Epoch 2/5\n",
            "612/612 [==============================] - 26s 42ms/step - loss: 0.1250 - accuracy: 0.9545 - val_loss: 0.2119 - val_accuracy: 0.9202\n",
            "Epoch 3/5\n",
            "612/612 [==============================] - 17s 28ms/step - loss: 0.0690 - accuracy: 0.9749 - val_loss: 0.2382 - val_accuracy: 0.9159\n",
            "Epoch 4/5\n",
            "612/612 [==============================] - 15s 25ms/step - loss: 0.0416 - accuracy: 0.9854 - val_loss: 0.2868 - val_accuracy: 0.9137\n",
            "Epoch 5/5\n",
            "612/612 [==============================] - 15s 25ms/step - loss: 0.0346 - accuracy: 0.9875 - val_loss: 0.3067 - val_accuracy: 0.9107\n"
          ]
        }
      ]
    },
    {
      "cell_type": "code",
      "source": [
        "y_pred=model_4.predict(val_sentences)\n",
        "y_pred[:10]"
      ],
      "metadata": {
        "colab": {
          "base_uri": "https://localhost:8080/"
        },
        "id": "mWNUkt4X5g7e",
        "outputId": "c513d6d3-d21d-40ce-e927-0f1e31d0c8f7"
      },
      "execution_count": 21,
      "outputs": [
        {
          "output_type": "stream",
          "name": "stdout",
          "text": [
            "263/263 [==============================] - 4s 8ms/step\n"
          ]
        },
        {
          "output_type": "execute_result",
          "data": {
            "text/plain": [
              "array([[9.9950039e-01],\n",
              "       [9.9604404e-01],\n",
              "       [4.9021109e-03],\n",
              "       [9.9912971e-01],\n",
              "       [2.7716402e-03],\n",
              "       [9.3329275e-01],\n",
              "       [9.9869126e-01],\n",
              "       [9.9926883e-01],\n",
              "       [9.6959811e-01],\n",
              "       [9.7688855e-05]], dtype=float32)"
            ]
          },
          "metadata": {},
          "execution_count": 21
        }
      ]
    },
    {
      "cell_type": "code",
      "source": [
        "model_preds=tf.squeeze(tf.round(y_pred))\n",
        "model_preds[:10]"
      ],
      "metadata": {
        "colab": {
          "base_uri": "https://localhost:8080/"
        },
        "id": "WXQTBqyg5t-X",
        "outputId": "8f340efa-0a84-4f66-872a-ae513a9fc472"
      },
      "execution_count": 22,
      "outputs": [
        {
          "output_type": "execute_result",
          "data": {
            "text/plain": [
              "<tf.Tensor: shape=(10,), dtype=float32, numpy=array([1., 1., 0., 1., 0., 1., 1., 1., 1., 0.], dtype=float32)>"
            ]
          },
          "metadata": {},
          "execution_count": 22
        }
      ]
    },
    {
      "cell_type": "code",
      "source": [
        "calculate_results(y_true=val_labels,\n",
        "                            y_pred=model_preds)"
      ],
      "metadata": {
        "colab": {
          "base_uri": "https://localhost:8080/"
        },
        "id": "tGHYNHLK5dJ1",
        "outputId": "d1dee95c-2e70-496c-a4b1-c208e04f5842"
      },
      "execution_count": 23,
      "outputs": [
        {
          "output_type": "execute_result",
          "data": {
            "text/plain": [
              "{'accuracy': 91.0650464617584,\n",
              " 'precision': 91.11975268320376,\n",
              " 'recall': 91.0650464617584,\n",
              " 'f1': 91.06559428904863}"
            ]
          },
          "metadata": {},
          "execution_count": 23
        }
      ]
    },
    {
      "cell_type": "code",
      "source": [
        "import numpy as np\n",
        "import math\n",
        "text_s=[\"In the shadows of my desolate room, I find myself lost in the haunting corridors of my mind. Memories of a time long gone echo through the hollow chambers of my heart, their melancholic melodies a constant reminder of the greatness that once filled my life\"]\n",
        "txt=np.array(text_s)\n",
        "y_pred=model_4.predict(txt)\n",
        "# model_preds=tf.squeeze(tf.round(y_pred))\n",
        "print(int(tf.round(y_pred)))\n",
        "model_4.evaluate(txt)"
      ],
      "metadata": {
        "colab": {
          "base_uri": "https://localhost:8080/"
        },
        "id": "8PK0EbUA9QoY",
        "outputId": "09f52cb7-3d46-4ffe-c37d-e1515c24f826"
      },
      "execution_count": 36,
      "outputs": [
        {
          "output_type": "stream",
          "name": "stdout",
          "text": [
            "1/1 [==============================] - 0s 28ms/step\n",
            "1\n",
            "1/1 [==============================] - 0s 29ms/step - loss: 0.0000e+00 - accuracy: 0.0000e+00\n"
          ]
        },
        {
          "output_type": "execute_result",
          "data": {
            "text/plain": [
              "[0.0, 0.0]"
            ]
          },
          "metadata": {},
          "execution_count": 36
        }
      ]
    }
  ]
}